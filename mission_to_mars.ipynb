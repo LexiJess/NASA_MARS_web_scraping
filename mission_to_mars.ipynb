{
 "cells": [
  {
   "cell_type": "code",
   "execution_count": 129,
   "metadata": {},
   "outputs": [],
   "source": [
    "# Dependencies\n",
    "from bs4 import BeautifulSoup as bs\n",
    "import requests\n",
    "from splinter import Browser\n",
    "from bs4 import BeautifulSoup\n",
    "from webdriver_manager.chrome import ChromeDriverManager"
   ]
  },
  {
   "cell_type": "code",
   "execution_count": 130,
   "metadata": {},
   "outputs": [
    {
     "name": "stderr",
     "output_type": "stream",
     "text": [
      "[WDM] - Current google-chrome version is 86.0.4240\n",
      "[WDM] - Get LATEST driver version for 86.0.4240\n"
     ]
    },
    {
     "name": "stdout",
     "output_type": "stream",
     "text": [
      " \n"
     ]
    },
    {
     "name": "stderr",
     "output_type": "stream",
     "text": [
      "[WDM] - Get LATEST driver version for 86.0.4240\n",
      "[WDM] - Trying to download new driver from http://chromedriver.storage.googleapis.com/86.0.4240.22/chromedriver_win32.zip\n",
      "[WDM] - Driver has been saved in cache [C:\\Users\\hanso\\.wdm\\drivers\\chromedriver\\win32\\86.0.4240.22]\n"
     ]
    }
   ],
   "source": [
    "#response=requests.get('https://mars.nasa.gov/news')\n",
    "\n",
    "executable_path = {'executable_path': ChromeDriverManager().install()}\n",
    "browser = Browser('chrome', **executable_path, headless=False)"
   ]
  },
  {
   "cell_type": "code",
   "execution_count": 131,
   "metadata": {},
   "outputs": [],
   "source": [
    "url = 'https://mars.nasa.gov/news'\n",
    "browser.visit(url)"
   ]
  },
  {
   "cell_type": "code",
   "execution_count": 132,
   "metadata": {},
   "outputs": [
    {
     "data": {
      "text/plain": [
       "bs4.BeautifulSoup"
      ]
     },
     "execution_count": 132,
     "metadata": {},
     "output_type": "execute_result"
    }
   ],
   "source": [
    "# Create a Beautiful Soup object\n",
    "soup = bs(browser.html, 'html.parser')\n",
    "type(soup)"
   ]
  },
  {
   "cell_type": "code",
   "execution_count": 93,
   "metadata": {},
   "outputs": [],
   "source": [
    "#res=response.text\n",
    "#soup=bs(res, 'html.parser')\n",
    "#print(soup.prettify())"
   ]
  },
  {
   "cell_type": "code",
   "execution_count": 133,
   "metadata": {},
   "outputs": [],
   "source": [
    "titles=soup.find_all(name='div', class_=\"content_title\")\n",
    "#titles"
   ]
  },
  {
   "cell_type": "code",
   "execution_count": 134,
   "metadata": {},
   "outputs": [
    {
     "data": {
      "text/plain": [
       "'Mars Now'"
      ]
     },
     "execution_count": 134,
     "metadata": {},
     "output_type": "execute_result"
    }
   ],
   "source": [
    "#finding the first-listed title\n",
    "titles[0].text"
   ]
  },
  {
   "cell_type": "code",
   "execution_count": 135,
   "metadata": {},
   "outputs": [
    {
     "data": {
      "text/plain": [
       "'Mars Now'"
      ]
     },
     "execution_count": 135,
     "metadata": {},
     "output_type": "execute_result"
    }
   ],
   "source": [
    "#storing the first title as a variable\n",
    "latest_title=titles[0].text.strip(\"\\n\")\n",
    "latest_title"
   ]
  },
  {
   "cell_type": "code",
   "execution_count": 136,
   "metadata": {},
   "outputs": [
    {
     "data": {
      "text/plain": [
       "['Mars Now',\n",
       " 'MOXIE Could Help Future Rockets Launch Off Mars',\n",
       " \"Hear Audio From NASA's Perseverance As It Travels Through Deep Space\",\n",
       " 'Mars Is Getting a New Robotic Meteorologist',\n",
       " 'Heat and Dust Help Launch Martian Water Into Space, Scientists Find',\n",
       " \"NASA's Curiosity Takes Selfie With 'Mary Anning' on the Red Planet\",\n",
       " 'Independent Review Indicates NASA Prepared for Mars Sample Return Campaign',\n",
       " \"NASA's Perseverance Rover 100 Days Out\",\n",
       " \"NASA's Perseverance Rover Is Midway to Mars \",\n",
       " 'Sensors on Mars 2020 Spacecraft Answer Long-Distance Call From Earth',\n",
       " \"NASA's Perseverance Rover Bringing 3D-Printed Metal Parts to Mars\",\n",
       " \"NASA InSight's 'Mole' Is Out of Sight\",\n",
       " \"NASA's Perseverance Rover Will Peer Beneath Mars' Surface \",\n",
       " 'AI Is Helping Scientists Discover Fresh Craters on Mars',\n",
       " \"NASA's New Mars Rover Is Ready for Space Lasers\",\n",
       " \"NASA's New Mars Rover Will Use X-Rays to Hunt Fossils\",\n",
       " 'My Culture, My Voice',\n",
       " \"NASA Readies Perseverance Mars Rover's Earthly Twin \",\n",
       " \"NASA Engineers Checking InSight's Weather Sensors\",\n",
       " \"Follow NASA's Perseverance Rover in Real Time on Its Way to Mars\",\n",
       " 'NASA Establishes Board to Initially Review Mars Sample Return Plans',\n",
       " \"NASA's Ingenuity Mars Helicopter Recharges Its Batteries in Flight\",\n",
       " \"Celebrate Mars Reconnaissance Orbiter's Views From Above\",\n",
       " \"NASA's MAVEN Observes Martian Night Sky Pulsing in Ultraviolet Light\",\n",
       " \"8 Martian Postcards to Celebrate Curiosity's Landing Anniversary\",\n",
       " 'NASA, ULA Launch Mars 2020 Perseverance Rover Mission to Red Planet',\n",
       " \"NASA's Perseverance Rover Will Carry First Spacesuit Materials to Mars\",\n",
       " \"A New Video Captures the Science of NASA's Perseverance Mars Rover\",\n",
       " 'NASA Invites Public to Share Excitement of Mars 2020 Perseverance Rover Launch',\n",
       " \"NASA's Mars Perseverance Rover Passes Flight Readiness Review\",\n",
       " 'NASA to Broadcast Mars 2020 Perseverance Launch, Prelaunch Activities',\n",
       " \"6 Things to Know About NASA's Ingenuity Mars Helicopter\",\n",
       " 'Join NASA for the Launch of the Mars 2020 Perseverance Rover',\n",
       " \"NASA's Perseverance Rover Attached to Atlas V Rocket\",\n",
       " '7 Things to Know About the Mars 2020 Perseverance Rover Mission',\n",
       " \"NASA's InSight Flexes Its Arm While Its 'Mole' Hits Pause\",\n",
       " \"Curiosity Mars Rover's Summer Road Trip Has Begun\",\n",
       " \"How NASA's Mars Helicopter Will Reach the Red Planet's Surface\",\n",
       " \"The Launch Is Approaching for NASA's Next Mars Rover, Perseverance\",\n",
       " 'NASA to Hold Mars 2020 Perseverance Rover Launch Briefing',\n",
       " \"While Stargazing on Mars, NASA's Curiosity Rover Spots Earth and Venus\",\n",
       " \"Alabama High School Student Names NASA's Mars Helicopter\",\n",
       " \"Mars Helicopter Attached to NASA's Perseverance Rover\",\n",
       " \"NASA's Perseverance Mars Rover Gets Its Wheels and Air Brakes\",\n",
       " 'NASA to Broadcast Mars 2020 Perseverance Launch, Prelaunch Activities',\n",
       " \"The Launch Is Approaching for NASA's Next Mars Rover, Perseverance\",\n",
       " 'NASA to Hold Mars 2020 Perseverance Rover Launch Briefing',\n",
       " \"Alabama High School Student Names NASA's Mars Helicopter\",\n",
       " \"Mars Helicopter Attached to NASA's Perseverance Rover\",\n",
       " \"NASA's Perseverance Mars Rover Gets Its Wheels and Air Brakes\",\n",
       " 'NASA to Broadcast Mars 2020 Perseverance Launch, Prelaunch Activities',\n",
       " \"The Launch Is Approaching for NASA's Next Mars Rover, Perseverance\",\n",
       " 'NASA to Hold Mars 2020 Perseverance Rover Launch Briefing']"
      ]
     },
     "execution_count": 136,
     "metadata": {},
     "output_type": "execute_result"
    }
   ],
   "source": [
    "#This is the list of titles\n",
    "titles_list=[]\n",
    "for t in titles:\n",
    "    titles_list.append(t.text.strip(\"\\n\"))\n",
    "titles_list"
   ]
  },
  {
   "cell_type": "code",
   "execution_count": 137,
   "metadata": {},
   "outputs": [],
   "source": [
    "paragraph_text=soup.find_all(name='div', class_=\"rollover_description_inner\")\n",
    "#paragraph_text"
   ]
  },
  {
   "cell_type": "code",
   "execution_count": 138,
   "metadata": {},
   "outputs": [],
   "source": [
    "paragraph_text_list=[]\n",
    "for p in paragraph_text:\n",
    "    paragraph_text_list.append(p.text)\n",
    "#paragraph_text_list"
   ]
  },
  {
   "cell_type": "code",
   "execution_count": 139,
   "metadata": {},
   "outputs": [
    {
     "data": {
      "text/plain": [
       "'A mission to investigate key questions about potential life on Mars. '"
      ]
     },
     "execution_count": 139,
     "metadata": {},
     "output_type": "execute_result"
    }
   ],
   "source": [
    "#Storing the first paragraph as a variable\n",
    "paragraph_text[0].text\n",
    "latest_paragraph_text=paragraph_text[0].text\n",
    "latest_paragraph_text"
   ]
  },
  {
   "cell_type": "code",
   "execution_count": 140,
   "metadata": {},
   "outputs": [
    {
     "name": "stderr",
     "output_type": "stream",
     "text": [
      "[WDM] - Current google-chrome version is 86.0.4240\n",
      "[WDM] - Get LATEST driver version for 86.0.4240\n",
      "[WDM] - Driver [C:\\Users\\hanso\\.wdm\\drivers\\chromedriver\\win32\\86.0.4240.22\\chromedriver.exe] found in cache\n"
     ]
    },
    {
     "name": "stdout",
     "output_type": "stream",
     "text": [
      " \n"
     ]
    }
   ],
   "source": [
    "# Setup splinter\n",
    "executable_path = {'executable_path': ChromeDriverManager().install()}\n",
    "browser = Browser('chrome', **executable_path, headless=False)"
   ]
  },
  {
   "cell_type": "code",
   "execution_count": 141,
   "metadata": {},
   "outputs": [],
   "source": [
    "url = 'https://www.jpl.nasa.gov/spaceimages/?search=&category=Mars'\n",
    "browser.visit(url)"
   ]
  },
  {
   "cell_type": "code",
   "execution_count": 142,
   "metadata": {},
   "outputs": [],
   "source": [
    "#finding the image box, set as variable\n",
    "image_nav=browser.find_by_id(\"full_image\")\n",
    "\n",
    "#following the link to the image\n",
    "click_image=browser.find_by_id(\"full_image\").first.click()\n",
    "\n",
    "click_more_info=browser.links.find_by_partial_text(\"more info\").first.click()"
   ]
  },
  {
   "cell_type": "code",
   "execution_count": 143,
   "metadata": {},
   "outputs": [
    {
     "name": "stdout",
     "output_type": "stream",
     "text": [
      "<splinter.element_list.ElementList object at 0x000002856D212EB8>\n"
     ]
    }
   ],
   "source": [
    "print (image_nav)"
   ]
  },
  {
   "cell_type": "code",
   "execution_count": 144,
   "metadata": {},
   "outputs": [],
   "source": [
    "soup=bs(browser.html, 'html.parser')\n",
    "#print(soup.prettify())"
   ]
  },
  {
   "cell_type": "code",
   "execution_count": 145,
   "metadata": {},
   "outputs": [
    {
     "data": {
      "text/plain": [
       "'//photojournal.jpl.nasa.gov/tiff/PIA17449.tif'"
      ]
     },
     "execution_count": 145,
     "metadata": {},
     "output_type": "execute_result"
    }
   ],
   "source": [
    "#Setting the featured image for the image url\n",
    "pic_url=soup.find(name='div', class_=\"download_tiff\")\n",
    "\n",
    "featured_image_url=pic_url.find(name='a').get('href')\n",
    "featured_image_url\n"
   ]
  },
  {
   "cell_type": "code",
   "execution_count": null,
   "metadata": {},
   "outputs": [],
   "source": [
    "\n"
   ]
  }
 ],
 "metadata": {
  "kernelspec": {
   "display_name": "Python [conda env:PythonData] *",
   "language": "python",
   "name": "conda-env-PythonData-py"
  },
  "language_info": {
   "codemirror_mode": {
    "name": "ipython",
    "version": 3
   },
   "file_extension": ".py",
   "mimetype": "text/x-python",
   "name": "python",
   "nbconvert_exporter": "python",
   "pygments_lexer": "ipython3",
   "version": "3.7.1"
  }
 },
 "nbformat": 4,
 "nbformat_minor": 4
}
